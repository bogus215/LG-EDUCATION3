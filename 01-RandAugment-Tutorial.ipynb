{
 "cells": [
  {
   "cell_type": "markdown",
   "id": "3dfbc12e",
   "metadata": {},
   "source": [
    "# RandAugment Tutorial"
   ]
  },
  {
   "cell_type": "markdown",
   "id": "2b1d8a6a",
   "metadata": {},
   "source": [
    "- 실습조교: 배진수(wlstn215@korea.ac.kr), 안시후(sihuahn@korea.ac.kr), 김현지(99ktxx@korea.ac.kr)"
   ]
  },
  {
   "cell_type": "markdown",
   "id": "68d98bbc",
   "metadata": {},
   "source": [
    "## Colab gpu 연결"
   ]
  },
  {
   "cell_type": "markdown",
   "id": "1d2b5bce",
   "metadata": {},
   "source": [
    "### 런타임 -> 런타임유형 변경 -> 하드웨어 가속기 -> GPU"
   ]
  },
  {
   "cell_type": "code",
   "execution_count": null,
   "id": "024a07c2",
   "metadata": {},
   "outputs": [],
   "source": [
    "import torch\n",
    "torch.cuda.is_available()"
   ]
  },
  {
   "cell_type": "markdown",
   "id": "7310ccf0",
   "metadata": {},
   "source": [
    "## 0.모듈 불러오기"
   ]
  },
  {
   "cell_type": "code",
   "execution_count": null,
   "id": "1e6ec2ed",
   "metadata": {},
   "outputs": [],
   "source": [
    "''' github+colab 교육생분들 '''\n",
    "# !git clone https://github.com/bogus215/LG-EDUCATION3.git\n",
    "\n",
    "import matplotlib.pyplot as plt\n",
    "import numpy as np\n",
    "import PIL\n",
    "import pandas as pd\n",
    "from PIL import Image\n",
    "from torchvision import datasets\n",
    "from augmentation import *"
   ]
  },
  {
   "cell_type": "markdown",
   "id": "90f7361e",
   "metadata": {},
   "source": [
    "## 1. CIFAR 10 Dataset 다운로드 및 확인"
   ]
  },
  {
   "cell_type": "code",
   "execution_count": null,
   "id": "f1cce6b6",
   "metadata": {},
   "outputs": [],
   "source": [
    "# 학습 및 테스팅 데이터 다운로드 및 저장\n",
    "\n",
    "train_dataset = datasets.CIFAR10(root='./data', train=True, download=True)\n",
    "test_dataset = datasets.CIFAR10(root='./data', train=False, download=True)"
   ]
  },
  {
   "cell_type": "markdown",
   "id": "147db691",
   "metadata": {},
   "source": [
    "### 탐색적 데이터 분석"
   ]
  },
  {
   "cell_type": "code",
   "execution_count": null,
   "id": "c105a55a",
   "metadata": {},
   "outputs": [],
   "source": [
    "# 데이터 구조 확인하기\n",
    "print(\"CIFAR10 클래스 종류 리스트: \",train_dataset.classes)\n",
    "print(\"CIFAR10 클래스 이름 및 인덱스: \",train_dataset.class_to_idx)\n",
    "\n",
    "print(\"학습 데이터 Feature SHAPE: \",train_dataset.data.shape)\n",
    "print(\"테스팅 데이터 Feature SHAPE: \",test_dataset.data.shape)\n",
    "\n",
    "print(\"학습 데이터 Target 개수: \",len(train_dataset.targets))\n",
    "print(\"테스팅 데이터 Target 개수: \",len(test_dataset.targets))"
   ]
  },
  {
   "cell_type": "code",
   "execution_count": null,
   "id": "baa684bb",
   "metadata": {},
   "outputs": [],
   "source": [
    "# 학습 데이터 클래스 비율 확인하기\n",
    "print(pd.value_counts(train_dataset.targets))"
   ]
  },
  {
   "cell_type": "code",
   "execution_count": null,
   "id": "589eb3bc",
   "metadata": {},
   "outputs": [],
   "source": [
    "# 테스팅 데이터 클래스 비율 확인하기\n",
    "print(pd.value_counts(test_dataset.targets))"
   ]
  },
  {
   "cell_type": "code",
   "execution_count": null,
   "id": "963239c8",
   "metadata": {},
   "outputs": [],
   "source": [
    "# CIFAR10 이미지 데이터 그려보기\n",
    "\n",
    "fig = plt.figure(figsize=(20, 10))\n",
    "for cls, i in zip(train_dataset.class_to_idx.keys(), train_dataset.class_to_idx.values()):\n",
    "    index_list = np.where(np.array(train_dataset.targets)==i)[0]\n",
    "\n",
    "    index = np.random.RandomState(0).choice(index_list, 1)\n",
    "\n",
    "    img = train_dataset.data[index][0] # width X height x channel\n",
    "    \n",
    "    fig.add_subplot(2, 5, i+1)\n",
    "    plt.imshow(img)\n",
    "    plt.title(f'{cls} - {i}')\n",
    "\n",
    "plt.show()"
   ]
  },
  {
   "cell_type": "markdown",
   "id": "826c9551",
   "metadata": {},
   "source": [
    "## 2. RandAugment 적용하기"
   ]
  },
  {
   "cell_type": "markdown",
   "id": "7ef8d7bd",
   "metadata": {},
   "source": [
    "### 비행기 이미지 사진에 적용해보기"
   ]
  },
  {
   "cell_type": "code",
   "execution_count": null,
   "id": "45d5795a",
   "metadata": {},
   "outputs": [],
   "source": [
    "# RandAugment에서 사용할 augmentation 리스트 생성\n",
    "# Augmentation별 강도 조절 및 환경과 관련된 하이퍼파라미터 설정 필요\n",
    "augment_list = [\n",
    "                (AutoContrast, None, None), \n",
    "                (Equalize, None, None),\n",
    "                (Invert, None, None),\n",
    "                (Rotate, 30, None),\n",
    "                (Posterize, 4, 0),\n",
    "                (Solarize, 256, None),\n",
    "                (Color, 1.8, 0.1),\n",
    "                (Contrast, 1.8, 0.1),\n",
    "                (Brightness, 1.8, 0.1),\n",
    "                (Sharpness, 1.8, 0.1),\n",
    "                (ShearX, 0.3, None),\n",
    "                (ShearY, 0.3, None),\n",
    "                (TranslateXConst, 100, None),\n",
    "                (TranslateYConst, 100, None)\n",
    "                ]"
   ]
  },
  {
   "cell_type": "code",
   "execution_count": null,
   "id": "858749e4",
   "metadata": {},
   "outputs": [],
   "source": [
    "# RandAugment 클래스 만들기\n",
    "class RandAugment(object):\n",
    "    def __init__(self, n, m, augment_list):\n",
    "        \n",
    "        self.n = int(n) # Augmentation 중복 적용 횟수\n",
    "        self.m = m # Augmentation 강도 조절\n",
    "        self.augment_pool = augment_list # Augmentation 리스트\n",
    "\n",
    "    def __call__(self, img):\n",
    "        ops = random.choices(self.augment_pool, k=self.n) # Augmentation 리스트에서 랜덤 선택\n",
    "        for op, max_v, bias in ops: # 선택된 증강 기법들을 중복하여 적용\n",
    "            img = op(img, v=self.m, max_v=max_v, bias=bias)\n",
    "        return img"
   ]
  },
  {
   "cell_type": "code",
   "execution_count": null,
   "id": "ed06944f",
   "metadata": {},
   "outputs": [],
   "source": [
    "# 고화질 비행기 이미지 사진에 RandAugment 적용해보기\n",
    "image = Image.open('./data/air_plane.jpg').convert(\"RGB\")\n",
    "image"
   ]
  },
  {
   "cell_type": "code",
   "execution_count": null,
   "id": "72b4dbe5",
   "metadata": {},
   "outputs": [],
   "source": [
    "# RandAugment 적용하기\n",
    "n, m = 3, 5\n",
    "ra = RandAugment(n, m, augment_list=augment_list)\n",
    "transform_image = ra(image)"
   ]
  },
  {
   "cell_type": "code",
   "execution_count": null,
   "id": "39d36cd5",
   "metadata": {},
   "outputs": [],
   "source": [
    "# RandAugment 적용된 이미지 사진 시각화 하기 (Augment 적용 전 사진과 비교)\n",
    "fig = plt.figure(figsize=(20, 10))\n",
    "\n",
    "fig.add_subplot(1, 2, 1)\n",
    "plt.imshow(image)\n",
    "plt.title('Original')\n",
    "\n",
    "fig.add_subplot(1, 2, 2)\n",
    "plt.imshow(transform_image)\n",
    "plt.title(f'RandAugment n={n}, m={m}')\n",
    "\n",
    "plt.show()"
   ]
  },
  {
   "cell_type": "markdown",
   "id": "d1fa06d7",
   "metadata": {},
   "source": [
    "### CIFAR 10 데이터에 적용하기"
   ]
  },
  {
   "cell_type": "code",
   "execution_count": null,
   "id": "18c3548b",
   "metadata": {},
   "outputs": [],
   "source": [
    "# RandAugment에서 사용할 augmentation 리스트 생성\n",
    "# Augmentation별 강도 조절 및 환경과 관련된 하이퍼파라미터 설정 필요\n",
    "cifar10_aug_list = [\n",
    "                    (AutoContrast, None, None),\n",
    "                    (Equalize, None, None),\n",
    "                    (Invert, None, None),\n",
    "                    (Rotate, 30, None),\n",
    "                    (Posterize, 4, 0),\n",
    "                    (Solarize, 256, None),\n",
    "                    (Color, 1.8, 0.1),\n",
    "                    (Contrast, 1.8, 0.1),\n",
    "                    (Brightness, 1.8, 0.1),\n",
    "                    (Sharpness, 1.8, 0.1),\n",
    "                    (ShearX, 0.3, None),\n",
    "                    (ShearY, 0.3, None),\n",
    "                    (TranslateXConst, 32 // 8, None), # CIFAR10 이미지 크기: 32\n",
    "                    (TranslateYConst, 32 // 8, None),\n",
    "                    (CutoutConst, 32 // 8, None),\n",
    "                    ]"
   ]
  },
  {
   "cell_type": "code",
   "execution_count": null,
   "id": "5bf217b5",
   "metadata": {},
   "outputs": [],
   "source": [
    "# RandAugment 클래스 만들기 + CutOut 추가\n",
    "class RandAugmentCIFAR(object):\n",
    "    def __init__(self, n, m, augment_list):\n",
    "\n",
    "        self.n = int(n)\n",
    "        self.m = m\n",
    "        self.augment_pool = augment_list\n",
    "\n",
    "    def __call__(self, img):\n",
    "        ops = random.choices(self.augment_pool, k=self.n)\n",
    "        for op, max_v, bias in ops:\n",
    "            img = op(img, v=self.m, max_v=max_v, bias=bias)\n",
    "        return img"
   ]
  },
  {
   "cell_type": "code",
   "execution_count": null,
   "id": "a6be97ce",
   "metadata": {},
   "outputs": [],
   "source": [
    "ra_cifar = RandAugmentCIFAR(5, 5, augment_list=cifar10_aug_list)"
   ]
  },
  {
   "cell_type": "code",
   "execution_count": null,
   "id": "2ea01a1f",
   "metadata": {},
   "outputs": [],
   "source": [
    "fig = plt.figure(figsize=(10,50))\n",
    "for cls, i in zip(train_dataset.class_to_idx.keys(), train_dataset.class_to_idx.values()):\n",
    "    index_list = np.where(np.array(train_dataset.targets)==i)[0]\n",
    "    index = np.random.RandomState(0).choice(index_list, 1)\n",
    "\n",
    "    img = train_dataset.data[index][0]\n",
    "    img = Image.fromarray(img)\n",
    "    transform_image = ra_cifar(img)\n",
    "    \n",
    "    fig.add_subplot(10, 2, 2*i+1)\n",
    "    plt.imshow(img)\n",
    "    plt.title(f'{cls} - {i}')\n",
    "    \n",
    "    fig.add_subplot(10, 2, 2*i+2)\n",
    "    plt.imshow(transform_image)\n",
    "    plt.title(f'{cls} - {i} RandAug')\n",
    "plt.show()"
   ]
  }
 ],
 "metadata": {
  "kernelspec": {
   "display_name": "Python 3 (ipykernel)",
   "language": "python",
   "name": "python3"
  },
  "language_info": {
   "codemirror_mode": {
    "name": "ipython",
    "version": 3
   },
   "file_extension": ".py",
   "mimetype": "text/x-python",
   "name": "python",
   "nbconvert_exporter": "python",
   "pygments_lexer": "ipython3",
   "version": "3.9.15"
  }
 },
 "nbformat": 4,
 "nbformat_minor": 5
}
