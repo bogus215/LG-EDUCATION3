{
 "cells": [
  {
   "cell_type": "markdown",
   "id": "12bb80aa",
   "metadata": {},
   "source": [
    "# Sklearn-Self-Training-Solution"
   ]
  },
  {
   "cell_type": "markdown",
   "id": "d2d73643",
   "metadata": {},
   "source": [
    "- 실습조교: 배진수(wlstn215@korea.ac.kr), 안시후(sihuahn@korea.ac.kr), 김현지(99ktxx@korea.ac.kr)"
   ]
  },
  {
   "cell_type": "markdown",
   "id": "3ba01b10",
   "metadata": {},
   "source": [
    "## 0.모듈 불러오기"
   ]
  },
  {
   "cell_type": "code",
   "execution_count": 1,
   "id": "d12fb691",
   "metadata": {},
   "outputs": [],
   "source": [
    "''' 기본 모듈 및 시각화 모듈 '''\n",
    "from IPython.display import display\n",
    "import numpy as np\n",
    "import pandas as pd\n",
    "import seaborn as sns\n",
    "import matplotlib.pyplot as plt\n",
    "\n",
    "''' 데이터 전처리 모듈 '''\n",
    "from sklearn.preprocessing import StandardScaler\n",
    "from sklearn.model_selection import train_test_split\n",
    "\n",
    "''' 모델 학습용 모듈 '''\n",
    "from sklearn.svm import SVC\n",
    "from sklearn.linear_model import LogisticRegression\n",
    "from sklearn.semi_supervised import SelfTrainingClassifier\n",
    "\n",
    "''' 결과 평가용 모듈 '''\n",
    "from sklearn.metrics import confusion_matrix, accuracy_score, f1_score, precision_score, recall_score\n",
    "from sklearn.metrics import mean_squared_error, mean_absolute_error, r2_score, mean_absolute_percentage_error\n",
    "from sklearn.metrics import classification_report\n",
    "\n",
    "import warnings\n",
    "warnings.filterwarnings(\"ignore\")\n",
    "\n",
    "''' github+colab 교육생분들 '''\n",
    "# !git clone https://github.com/bogus215/LG-EDUCATION3.git"
   ]
  },
  {
   "cell_type": "markdown",
   "id": "f457ec19",
   "metadata": {},
   "source": [
    "## 1. 분석 데이터: Marketing Campaign Dataset (이진 분류 문제)"
   ]
  },
  {
   "cell_type": "markdown",
   "id": "2c62f7f5",
   "metadata": {},
   "source": [
    "### Task abstract : 슈퍼마켓 이용자 정보를 기반으로 해당 이용자가 집에 부양 가족(어린이/청소년)이 있는지 여부를 예측"
   ]
  },
  {
   "cell_type": "markdown",
   "id": "a89d83a4",
   "metadata": {},
   "source": [
    "### 설명변수(X) : 개인 정보 및 슈퍼마켓 이용 정보"
   ]
  },
  {
   "cell_type": "markdown",
   "id": "1ce052bb",
   "metadata": {},
   "source": [
    "- Year_Birth (출생년도)\n",
    "- MntWines (와인 품목에 대한 이용자의 연간 지출)\n",
    "- MntFruits (과일 품목에 대한 이용자의 연간 지출)\n",
    "- MntMeatProducts (육류 품목에 대한 이용자의 연간 지출)\n",
    "- MntSweetProducts (과자 품목에 대한 이용자의 연간 지출)"
   ]
  },
  {
   "cell_type": "markdown",
   "id": "ec45ec6e",
   "metadata": {},
   "source": [
    "### 반응변수(Y) : 부양 가족 여부"
   ]
  },
  {
   "cell_type": "markdown",
   "id": "8b898737",
   "metadata": {},
   "source": [
    "- Dependents_Flag : 0 (부양 가족 없음), 1 (부양 가족 있음)"
   ]
  },
  {
   "cell_type": "code",
   "execution_count": 2,
   "id": "33197708",
   "metadata": {},
   "outputs": [],
   "source": [
    "data = pd.read_excel('./data/marketing_campaign.xlsx')"
   ]
  },
  {
   "cell_type": "markdown",
   "id": "744fa2dc",
   "metadata": {},
   "source": [
    "## 다음 조건을 만족하는 semi-supervised learning 모델 학습 및 평가하세요.\n",
    "- 전처리시 변수 'ID'는 제거\n",
    "- 어린이(Kidhome)와 청소년(Teenhome)을 모두 포함한 부양가족 여부에 대한 칼럼 \"Dependents_Flag\" 생성\n",
    "- 학습 데이터 : 테스트 데이터 = 0.75 : 0.25 비율로 설정\n",
    "- 학습데이터 중 Labeled Data의 비율을 0.01로 설정\n",
    "- Supervised learning으로 SVM(Support Vector Machine) classifier 학습 후 성능 확인\n",
    "- SelfTrainingClassifier의 base_estimator를 SVM(Support Vector Machine) classifier로 설정하여 semi-supervised learning 방식으로 학습 후  성능 확인"
   ]
  },
  {
   "cell_type": "code",
   "execution_count": 3,
   "id": "f2bf5c48-96d2-4ffd-9126-29db1e911f82",
   "metadata": {},
   "outputs": [
    {
     "data": {
      "text/html": [
       "<div>\n",
       "<style scoped>\n",
       "    .dataframe tbody tr th:only-of-type {\n",
       "        vertical-align: middle;\n",
       "    }\n",
       "\n",
       "    .dataframe tbody tr th {\n",
       "        vertical-align: top;\n",
       "    }\n",
       "\n",
       "    .dataframe thead th {\n",
       "        text-align: right;\n",
       "    }\n",
       "</style>\n",
       "<table border=\"1\" class=\"dataframe\">\n",
       "  <thead>\n",
       "    <tr style=\"text-align: right;\">\n",
       "      <th></th>\n",
       "      <th>Year_Birth</th>\n",
       "      <th>MntWines</th>\n",
       "      <th>MntFruits</th>\n",
       "      <th>MntMeatProducts</th>\n",
       "      <th>MntSweetProducts</th>\n",
       "      <th>Kidhome</th>\n",
       "      <th>Teenhome</th>\n",
       "    </tr>\n",
       "  </thead>\n",
       "  <tbody>\n",
       "    <tr>\n",
       "      <th>0</th>\n",
       "      <td>1957</td>\n",
       "      <td>635</td>\n",
       "      <td>88</td>\n",
       "      <td>546</td>\n",
       "      <td>88</td>\n",
       "      <td>0</td>\n",
       "      <td>0</td>\n",
       "    </tr>\n",
       "    <tr>\n",
       "      <th>1</th>\n",
       "      <td>1954</td>\n",
       "      <td>11</td>\n",
       "      <td>1</td>\n",
       "      <td>6</td>\n",
       "      <td>1</td>\n",
       "      <td>1</td>\n",
       "      <td>1</td>\n",
       "    </tr>\n",
       "    <tr>\n",
       "      <th>2</th>\n",
       "      <td>1965</td>\n",
       "      <td>426</td>\n",
       "      <td>49</td>\n",
       "      <td>127</td>\n",
       "      <td>21</td>\n",
       "      <td>0</td>\n",
       "      <td>0</td>\n",
       "    </tr>\n",
       "    <tr>\n",
       "      <th>3</th>\n",
       "      <td>1984</td>\n",
       "      <td>11</td>\n",
       "      <td>4</td>\n",
       "      <td>20</td>\n",
       "      <td>3</td>\n",
       "      <td>1</td>\n",
       "      <td>0</td>\n",
       "    </tr>\n",
       "    <tr>\n",
       "      <th>4</th>\n",
       "      <td>1981</td>\n",
       "      <td>173</td>\n",
       "      <td>43</td>\n",
       "      <td>118</td>\n",
       "      <td>27</td>\n",
       "      <td>1</td>\n",
       "      <td>0</td>\n",
       "    </tr>\n",
       "  </tbody>\n",
       "</table>\n",
       "</div>"
      ],
      "text/plain": [
       "   Year_Birth  MntWines  MntFruits  MntMeatProducts  MntSweetProducts  \\\n",
       "0        1957       635         88              546                88   \n",
       "1        1954        11          1                6                 1   \n",
       "2        1965       426         49              127                21   \n",
       "3        1984        11          4               20                 3   \n",
       "4        1981       173         43              118                27   \n",
       "\n",
       "   Kidhome  Teenhome  \n",
       "0        0         0  \n",
       "1        1         1  \n",
       "2        0         0  \n",
       "3        1         0  \n",
       "4        1         0  "
      ]
     },
     "execution_count": 3,
     "metadata": {},
     "output_type": "execute_result"
    }
   ],
   "source": [
    "data = data.drop(['ID'], axis=1)\n",
    "data.head()"
   ]
  },
  {
   "cell_type": "code",
   "execution_count": 4,
   "id": "032c9f6e-bbb4-4ff7-abaf-5d89762b9a47",
   "metadata": {},
   "outputs": [
    {
     "data": {
      "text/html": [
       "<div>\n",
       "<style scoped>\n",
       "    .dataframe tbody tr th:only-of-type {\n",
       "        vertical-align: middle;\n",
       "    }\n",
       "\n",
       "    .dataframe tbody tr th {\n",
       "        vertical-align: top;\n",
       "    }\n",
       "\n",
       "    .dataframe thead th {\n",
       "        text-align: right;\n",
       "    }\n",
       "</style>\n",
       "<table border=\"1\" class=\"dataframe\">\n",
       "  <thead>\n",
       "    <tr style=\"text-align: right;\">\n",
       "      <th></th>\n",
       "      <th>Year_Birth</th>\n",
       "      <th>MntWines</th>\n",
       "      <th>MntFruits</th>\n",
       "      <th>MntMeatProducts</th>\n",
       "      <th>MntSweetProducts</th>\n",
       "      <th>Kidhome</th>\n",
       "      <th>Teenhome</th>\n",
       "      <th>Dependents_Flag</th>\n",
       "    </tr>\n",
       "  </thead>\n",
       "  <tbody>\n",
       "    <tr>\n",
       "      <th>0</th>\n",
       "      <td>1957</td>\n",
       "      <td>635</td>\n",
       "      <td>88</td>\n",
       "      <td>546</td>\n",
       "      <td>88</td>\n",
       "      <td>0</td>\n",
       "      <td>0</td>\n",
       "      <td>0</td>\n",
       "    </tr>\n",
       "    <tr>\n",
       "      <th>1</th>\n",
       "      <td>1954</td>\n",
       "      <td>11</td>\n",
       "      <td>1</td>\n",
       "      <td>6</td>\n",
       "      <td>1</td>\n",
       "      <td>1</td>\n",
       "      <td>1</td>\n",
       "      <td>1</td>\n",
       "    </tr>\n",
       "    <tr>\n",
       "      <th>2</th>\n",
       "      <td>1965</td>\n",
       "      <td>426</td>\n",
       "      <td>49</td>\n",
       "      <td>127</td>\n",
       "      <td>21</td>\n",
       "      <td>0</td>\n",
       "      <td>0</td>\n",
       "      <td>0</td>\n",
       "    </tr>\n",
       "    <tr>\n",
       "      <th>3</th>\n",
       "      <td>1984</td>\n",
       "      <td>11</td>\n",
       "      <td>4</td>\n",
       "      <td>20</td>\n",
       "      <td>3</td>\n",
       "      <td>1</td>\n",
       "      <td>0</td>\n",
       "      <td>1</td>\n",
       "    </tr>\n",
       "    <tr>\n",
       "      <th>4</th>\n",
       "      <td>1981</td>\n",
       "      <td>173</td>\n",
       "      <td>43</td>\n",
       "      <td>118</td>\n",
       "      <td>27</td>\n",
       "      <td>1</td>\n",
       "      <td>0</td>\n",
       "      <td>1</td>\n",
       "    </tr>\n",
       "  </tbody>\n",
       "</table>\n",
       "</div>"
      ],
      "text/plain": [
       "   Year_Birth  MntWines  MntFruits  MntMeatProducts  MntSweetProducts  \\\n",
       "0        1957       635         88              546                88   \n",
       "1        1954        11          1                6                 1   \n",
       "2        1965       426         49              127                21   \n",
       "3        1984        11          4               20                 3   \n",
       "4        1981       173         43              118                27   \n",
       "\n",
       "   Kidhome  Teenhome  Dependents_Flag  \n",
       "0        0         0                0  \n",
       "1        1         1                1  \n",
       "2        0         0                0  \n",
       "3        1         0                1  \n",
       "4        1         0                1  "
      ]
     },
     "execution_count": 4,
     "metadata": {},
     "output_type": "execute_result"
    }
   ],
   "source": [
    "# Create a flag to denote whether the person has any dependants at home (either kids or teens)\n",
    "data['Dependents_Flag']=data.apply(lambda x: 1 if x['Kidhome']+x['Teenhome']>0 else 0, axis=1)\n",
    "data.head()"
   ]
  },
  {
   "cell_type": "code",
   "execution_count": 5,
   "id": "d5136b51",
   "metadata": {},
   "outputs": [
    {
     "data": {
      "text/plain": [
       "Year_Birth          0\n",
       "MntWines            0\n",
       "MntFruits           0\n",
       "MntMeatProducts     0\n",
       "MntSweetProducts    0\n",
       "Kidhome             0\n",
       "Teenhome            0\n",
       "Dependents_Flag     0\n",
       "dtype: int64"
      ]
     },
     "execution_count": 5,
     "metadata": {},
     "output_type": "execute_result"
    }
   ],
   "source": [
    "data.isnull().sum()"
   ]
  },
  {
   "cell_type": "code",
   "execution_count": 6,
   "id": "75fa8c2a",
   "metadata": {},
   "outputs": [
    {
     "name": "stdout",
     "output_type": "stream",
     "text": [
      "Size of train dataframe:  1680\n",
      "Size of test dataframe:  560\n"
     ]
    }
   ],
   "source": [
    "df_train, df_test = train_test_split(data, test_size = 0.25, random_state =0)\n",
    "print('Size of train dataframe: ', df_train.shape[0])\n",
    "print('Size of test dataframe: ', df_test.shape[0])"
   ]
  },
  {
   "cell_type": "code",
   "execution_count": 7,
   "id": "e3985fdd",
   "metadata": {},
   "outputs": [
    {
     "data": {
      "text/plain": [
       "-1    1663\n",
       " 1      12\n",
       " 0       5\n",
       "Name: New_Target, dtype: int64"
      ]
     },
     "execution_count": 7,
     "metadata": {},
     "output_type": "execute_result"
    }
   ],
   "source": [
    "df_train['Random_Mask'] = True\n",
    "df_train.loc[df_train.sample(frac=0.01, random_state = 0).index, 'Random_Mask'] = False\n",
    "df_train['New_Target'] = df_train.apply(lambda x: x['Dependents_Flag'] if x['Random_Mask'] ==False else -1, axis = 1)\n",
    "df_train['New_Target'].value_counts()"
   ]
  },
  {
   "cell_type": "code",
   "execution_count": 8,
   "id": "311128d7",
   "metadata": {},
   "outputs": [],
   "source": [
    "df_train_labeled = df_train[df_train['New_Target']!=-1]\n",
    "\n",
    "X_baseline = df_train_labeled.drop(['Dependents_Flag', 'Random_Mask', 'New_Target'], axis = 1)\n",
    "y_baseline = df_train_labeled['New_Target'].values\n",
    "\n",
    "X_test = df_test.drop(['Dependents_Flag'], axis = 1)\n",
    "y_test = df_test['Dependents_Flag'].values"
   ]
  },
  {
   "cell_type": "code",
   "execution_count": 9,
   "id": "92f1ca74",
   "metadata": {},
   "outputs": [
    {
     "name": "stdout",
     "output_type": "stream",
     "text": [
      "---------- SVC Baseline Model - Evaluation on Test Data ----------\n",
      "Accuracy Score:  0.7303571428571428\n",
      "              precision    recall  f1-score   support\n",
      "\n",
      "           0       1.00      0.02      0.04       154\n",
      "           1       0.73      1.00      0.84       406\n",
      "\n",
      "    accuracy                           0.73       560\n",
      "   macro avg       0.86      0.51      0.44       560\n",
      "weighted avg       0.80      0.73      0.62       560\n",
      "\n"
     ]
    }
   ],
   "source": [
    "model = SVC(kernel='rbf', \n",
    "            probability=True, \n",
    "            C=1.0, # default = 1.0\n",
    "            gamma='scale', # default = 'scale'\n",
    "            random_state=0\n",
    "           )\n",
    "\n",
    "clf = model.fit(X_baseline, y_baseline)\n",
    "\n",
    "print('---------- SVC Baseline Model - Evaluation on Test Data ----------')\n",
    "accuracy_score_B = clf.score(X_test, y_test)\n",
    "print('Accuracy Score: ', accuracy_score_B)\n",
    "print(classification_report(y_test, clf.predict(X_test)))"
   ]
  },
  {
   "cell_type": "code",
   "execution_count": 10,
   "id": "c33c9ee8",
   "metadata": {},
   "outputs": [],
   "source": [
    "X_train = df_train.drop(['Dependents_Flag', 'Random_Mask', 'New_Target'], axis = 1)\n",
    "y_train = df_train['New_Target'].values"
   ]
  },
  {
   "cell_type": "code",
   "execution_count": 11,
   "id": "be29ee95",
   "metadata": {},
   "outputs": [
    {
     "name": "stdout",
     "output_type": "stream",
     "text": [
      "End of iteration 1, added 1236 new labels.\n",
      "End of iteration 2, added 320 new labels.\n",
      "End of iteration 3, added 49 new labels.\n",
      "End of iteration 4, added 15 new labels.\n",
      "End of iteration 5, added 8 new labels.\n",
      "End of iteration 6, added 2 new labels.\n",
      "End of iteration 7, added 2 new labels.\n",
      "\n",
      "---------- Self Training Model - Summary ----------\n",
      "Base Estimator:  SVC(probability=True, random_state=0)\n",
      "Dependents_Flag:  [0 1]\n",
      "Transduction Labels:  [0 1 1 ... 1 1 0]\n",
      "Number of Features:  7\n",
      "Number of Iterations:  8\n",
      "Termination Condition:  no_change\n",
      "\n",
      "---------- Self Training Model - Evaluation on Test Data ----------\n",
      "Accuracy Score:  0.8107142857142857\n",
      "              precision    recall  f1-score   support\n",
      "\n",
      "           0       0.82      0.40      0.54       154\n",
      "           1       0.81      0.97      0.88       406\n",
      "\n",
      "    accuracy                           0.81       560\n",
      "   macro avg       0.82      0.68      0.71       560\n",
      "weighted avg       0.81      0.81      0.79       560\n",
      "\n"
     ]
    }
   ],
   "source": [
    "model_svc = SVC(kernel='rbf', \n",
    "            probability=True, \n",
    "            C=1.0, # default = 1.0\n",
    "            gamma='scale', # default = 'scale'\n",
    "            random_state=0)\n",
    "\n",
    "self_training_model = SelfTrainingClassifier(base_estimator = model_svc,\n",
    "                                            threshold = 0.75,\n",
    "                                            criterion = 'threshold',\n",
    "                                            max_iter = 10,\n",
    "                                            verbose = True\n",
    "                                            )\n",
    "\n",
    "clf_ST = self_training_model.fit(X_train, y_train)\n",
    "\n",
    "print('')\n",
    "print('---------- Self Training Model - Summary ----------')\n",
    "print('Base Estimator: ', clf_ST.base_estimator_)\n",
    "print('Dependents_Flag: ', clf_ST.classes_)\n",
    "print('Transduction Labels: ', clf_ST.transduction_)\n",
    "\n",
    "#print('Iteration When Sample Was Labeled: ', clf_ST.labeled_iter_)\n",
    "print('Number of Features: ', clf_ST.n_features_in_)\n",
    "print('Number of Iterations: ', clf_ST.n_iter_)\n",
    "print('Termination Condition: ', clf_ST.termination_condition_)\n",
    "print('')\n",
    "\n",
    "print('---------- Self Training Model - Evaluation on Test Data ----------')\n",
    "accuracy_score_ST = clf_ST.score(X_test, y_test)\n",
    "print('Accuracy Score: ', accuracy_score_ST)\n",
    "print(classification_report(y_test, clf_ST.predict(X_test)))"
   ]
  }
 ],
 "metadata": {
  "kernelspec": {
   "display_name": "Python 3 (ipykernel)",
   "language": "python",
   "name": "python3"
  },
  "language_info": {
   "codemirror_mode": {
    "name": "ipython",
    "version": 3
   },
   "file_extension": ".py",
   "mimetype": "text/x-python",
   "name": "python",
   "nbconvert_exporter": "python",
   "pygments_lexer": "ipython3",
   "version": "3.9.15"
  }
 },
 "nbformat": 4,
 "nbformat_minor": 5
}
