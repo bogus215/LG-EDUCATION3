{
 "cells": [
  {
   "cell_type": "markdown",
   "id": "12bb80aa",
   "metadata": {},
   "source": [
    "# Sklearn Self Training Classifier Tutorial "
   ]
  },
  {
   "cell_type": "markdown",
   "id": "7019942e",
   "metadata": {},
   "source": [
    "- 실습조교: 배진수(wlstn215@korea.ac.kr), 안시후(sihuahn@korea.ac.kr), 김현지(99ktxx@korea.ac.kr)"
   ]
  },
  {
   "cell_type": "markdown",
   "id": "ddd5925d",
   "metadata": {},
   "source": [
    "## 0.모듈 불러오기"
   ]
  },
  {
   "cell_type": "code",
   "execution_count": 1,
   "id": "d12fb691",
   "metadata": {},
   "outputs": [],
   "source": [
    "''' github+colab 교육생분들 '''\n",
    "# !git clone https://github.com/bogus215/LG-EDUCATION3.git\n",
    "\n",
    "''' 기본 모듈 및 시각화 모듈 '''\n",
    "from IPython.display import display\n",
    "import numpy as np\n",
    "import pandas as pd\n",
    "import seaborn as sns\n",
    "import matplotlib.pyplot as plt\n",
    "\n",
    "''' 데이터 전처리 모듈 '''\n",
    "from sklearn.preprocessing import StandardScaler\n",
    "from sklearn.model_selection import train_test_split\n",
    "\n",
    "''' 모델 학습용 모듈 '''\n",
    "from sklearn.svm import SVC\n",
    "from sklearn.semi_supervised import SelfTrainingClassifier\n",
    "\n",
    "''' 결과 평가용 모듈 '''\n",
    "from sklearn.metrics import confusion_matrix, accuracy_score, f1_score, precision_score, recall_score\n",
    "from sklearn.metrics import mean_squared_error, mean_absolute_error, r2_score, mean_absolute_percentage_error\n",
    "from sklearn.metrics import classification_report\n",
    "\n",
    "import warnings\n",
    "warnings.filterwarnings(\"ignore\")"
   ]
  },
  {
   "cell_type": "markdown",
   "id": "f457ec19",
   "metadata": {},
   "source": [
    "## 1. 분석 데이터: Pistachio Dataset (이진 분류 문제)"
   ]
  },
  {
   "cell_type": "markdown",
   "id": "2c62f7f5",
   "metadata": {},
   "source": [
    "### Task abstract : 피스타치오의 16가지 속성을 기반으로 피스타치오 종 분류"
   ]
  },
  {
   "cell_type": "markdown",
   "id": "a89d83a4",
   "metadata": {},
   "source": [
    "### 설명변수(X) : 피스타치오 속성"
   ]
  },
  {
   "cell_type": "markdown",
   "id": "1ce052bb",
   "metadata": {},
   "source": [
    "- AREA\n",
    "- PERIMETER\n",
    "- MAJOR_AXIS\n",
    "- MINOR_AXIS\n",
    "- ECCENTRICITY\n",
    "- EQDIASQ\n",
    "- SOLIDITY\n",
    "- CONVEX_AREA\n",
    "- EXTENT\n",
    "- ASPECT_RATIO \n",
    "- ROUNDNESS\n",
    "- COMPACTNESS\n",
    "- SHAPEFACTOR_1\n",
    "- SHAPEFACTOR_2\n",
    "- SHAPEFACTOR_3\n",
    "- SHAPEFACTOR_4"
   ]
  },
  {
   "cell_type": "markdown",
   "id": "ec45ec6e",
   "metadata": {},
   "source": [
    "### 반응변수(Y) : 피스타치오 종"
   ]
  },
  {
   "cell_type": "markdown",
   "id": "8b898737",
   "metadata": {},
   "source": [
    "- Species : Kirmizi_Pistachio, Siit_Pistachio  "
   ]
  },
  {
   "cell_type": "markdown",
   "id": "ec0cb6a3",
   "metadata": {},
   "source": [
    "### 1-1 데이터 전처리 및 탐색적 데이터 분석"
   ]
  },
  {
   "cell_type": "markdown",
   "id": "cfc228c5",
   "metadata": {},
   "source": [
    "### 데이터 불러오기"
   ]
  },
  {
   "cell_type": "code",
   "execution_count": null,
   "id": "33197708",
   "metadata": {},
   "outputs": [],
   "source": [
    "data =  pd.read_csv('./data/Pistachio.csv')"
   ]
  },
  {
   "cell_type": "markdown",
   "id": "10bdd4f4",
   "metadata": {},
   "source": [
    "### 데이터 확인"
   ]
  },
  {
   "cell_type": "code",
   "execution_count": null,
   "id": "645753fc",
   "metadata": {},
   "outputs": [],
   "source": [
    "print('Data shape: {}'.format(data.shape))\n",
    "data.head()"
   ]
  },
  {
   "cell_type": "markdown",
   "id": "f2cdd438",
   "metadata": {},
   "source": [
    "### 클래스 비율 확인"
   ]
  },
  {
   "cell_type": "code",
   "execution_count": null,
   "id": "6cbadb75",
   "metadata": {},
   "outputs": [],
   "source": [
    "data['Class'].value_counts()"
   ]
  },
  {
   "cell_type": "markdown",
   "id": "cced8de5",
   "metadata": {},
   "source": [
    "### 결측치 확인"
   ]
  },
  {
   "cell_type": "code",
   "execution_count": null,
   "id": "d5136b51",
   "metadata": {},
   "outputs": [],
   "source": [
    "data.isnull().sum()"
   ]
  },
  {
   "cell_type": "markdown",
   "id": "b75e4120",
   "metadata": {},
   "source": [
    "### 1-2 학습 데이터(Training Dataset), 테스트 데이터(Testing Dataset) 정의"
   ]
  },
  {
   "cell_type": "markdown",
   "id": "bc4d9718",
   "metadata": {},
   "source": [
    "### 학습 데이터, 테스트 데이터 분리"
   ]
  },
  {
   "cell_type": "code",
   "execution_count": null,
   "id": "75fa8c2a",
   "metadata": {},
   "outputs": [],
   "source": [
    "df_train, df_test = train_test_split(data, test_size=0.25, random_state=0)\n",
    "print('Size of train dataframe: ', df_train.shape[0])\n",
    "print('Size of test dataframe: ', df_test.shape[0])"
   ]
  },
  {
   "cell_type": "markdown",
   "id": "f3bb45a7",
   "metadata": {},
   "source": [
    "##### Train Data를 Labeled Data, Unlabeled Data로 Split \n",
    "- Random_Mask column을 추가\n",
    "- Labeled Data => -1, Unlabeled Data => 1을 가지도록 설정\n",
    "- frac으로 Labeled Data의 비율을 설정\n",
    "- New_Target column을 추가\n",
    "- Random_Mask => -1인 데이터들은 New_Target에 실제 Class value 할당\n",
    "- Random_Mask => 1인 데이터들은 New_Target에 -1을 value로 할당"
   ]
  },
  {
   "cell_type": "code",
   "execution_count": null,
   "id": "6b8cf677",
   "metadata": {},
   "outputs": [],
   "source": [
    "df_train['Random_Mask'] = True\n",
    "df_train.loc[df_train.sample(frac=0.01, random_state=0).index, 'Random_Mask'] = False"
   ]
  },
  {
   "cell_type": "code",
   "execution_count": null,
   "id": "e3985fdd",
   "metadata": {},
   "outputs": [],
   "source": [
    "df_train['New_Target'] = df_train.apply(lambda x: x['Class'] if x['Random_Mask']==False else -1, axis=1)\n",
    "df_train['New_Target'].value_counts()"
   ]
  },
  {
   "cell_type": "markdown",
   "id": "85f49d67",
   "metadata": {},
   "source": [
    "## 2. Model Training, Testing"
   ]
  },
  {
   "cell_type": "markdown",
   "id": "f82a4b58",
   "metadata": {},
   "source": [
    "- Labeled Data만 사용해 학습한 Supervised Learning Model과 Unlabeled Data도 사용하여 학습한 Semi-Supervised Learning Model의 성능을 비교"
   ]
  },
  {
   "cell_type": "markdown",
   "id": "358164e3",
   "metadata": {},
   "source": [
    "### 2-1. Baseline Model Training\n",
    "- Labeled Data만 사용한 Supervised Learning Model 구축"
   ]
  },
  {
   "cell_type": "markdown",
   "id": "94957746",
   "metadata": {},
   "source": [
    "##### Labeled Data 의  Train Data, Test Data 정의"
   ]
  },
  {
   "cell_type": "code",
   "execution_count": null,
   "id": "311128d7",
   "metadata": {},
   "outputs": [],
   "source": [
    "df_train_labeled = df_train[df_train['New_Target']!=-1]\n",
    "\n",
    "X_baseline = df_train_labeled.drop(['Class', 'Random_Mask', 'New_Target'], axis=1)\n",
    "y_baseline = df_train_labeled['New_Target'].values\n",
    "\n",
    "X_test = df_test.drop(['Class'], axis=1)\n",
    "y_test = df_test['Class'].values"
   ]
  },
  {
   "cell_type": "markdown",
   "id": "3f46ab4d",
   "metadata": {},
   "source": [
    "##### Baseline Model Training & Testing"
   ]
  },
  {
   "cell_type": "markdown",
   "id": "b8f7c108",
   "metadata": {},
   "source": [
    "##### Sklearn SVC Parameters\n",
    "- kernel : 어떤 kernel trick을 활용할지 지정 ('linear', 'poly', 'rbf', 'sigmoid', 'precomputed') \n",
    "- C, gamma : decision boundary 조절 역할 -> Margin을 크게하여 일반화 오차를 줄이는 것 vs 학습 데이터를 잘 분류하도록 하는 것"
   ]
  },
  {
   "cell_type": "code",
   "execution_count": null,
   "id": "92f1ca74",
   "metadata": {},
   "outputs": [],
   "source": [
    "# 모델 정의\n",
    "model = SVC(kernel='rbf', probability=True, C=1.0, gamma='scale', random_state=0)\n",
    "\n",
    "# 모델 학습\n",
    "clf = model.fit(X_baseline, y_baseline)\n",
    "\n",
    "# 모델 평가\n",
    "print('---------- SVC Baseline Model - Evaluation on Test Data ----------')\n",
    "accuracy_score_B = clf.score(X_test, y_test)\n",
    "print('Accuracy Score: ', accuracy_score_B)\n",
    "print(classification_report(y_test, clf.predict(X_test)))"
   ]
  },
  {
   "cell_type": "markdown",
   "id": "febe6995",
   "metadata": {},
   "source": [
    "### 2-2. Self-Training Model Training\n",
    "- Unlabeled data, Labeled Data를 모두 활용해 Semi-Supervised Learining Model 구축"
   ]
  },
  {
   "cell_type": "markdown",
   "id": "40af55a6",
   "metadata": {},
   "source": [
    "##### Self-Training Train Data, Test Data 정의"
   ]
  },
  {
   "cell_type": "code",
   "execution_count": null,
   "id": "c33c9ee8",
   "metadata": {},
   "outputs": [],
   "source": [
    "X_train = df_train.drop(['Class', 'Random_Mask', 'New_Target'], axis = 1)\n",
    "y_train = df_train['New_Target'].values"
   ]
  },
  {
   "cell_type": "markdown",
   "id": "6ddcf2da",
   "metadata": {},
   "source": [
    "##### Self-Training & Testing"
   ]
  },
  {
   "cell_type": "markdown",
   "id": "5fcd7895",
   "metadata": {},
   "source": [
    "##### Sklearn SelfTrainingClassifier Parameters\n",
    "\n",
    "- base_estimator : fit, predict_probability를 구현하는 추정기, 학습에 사용하는 모델\n",
    "\n",
    "- criterion : pseudo labeled 데이터 중 훈련 데이터에 추가할 데이터를 선택하는 기준 ('threshold' -> 예측 확률이 threshold 이상인 데이터들을 훈련 데이터에 추가, 'k-best' -> 예측 확률이 가장 높은 k개의 데이터를 훈련 데이터로 추가)\n",
    "\n",
    "- threshold : criterion이 'threshold'일 경우 임계값 지정\n",
    "\n",
    "- k-best : criterion이 'k-best'일 경우 k값 지정\n",
    "\n",
    "- max-iter : pseudo labeling, training 최대 반복 횟수를 지정"
   ]
  },
  {
   "cell_type": "code",
   "execution_count": null,
   "id": "be29ee95",
   "metadata": {},
   "outputs": [],
   "source": [
    "# base_estimator 모델 정의\n",
    "model_svc = SVC(kernel='rbf', probability=True, C=1.0, gamma='scale', random_state=0)\n",
    "\n",
    "# self training classifier 모델 정의\n",
    "self_training_model = SelfTrainingClassifier(base_estimator=model_svc,\n",
    "                                             threshold=0.75,\n",
    "                                             criterion='threshold',\n",
    "                                             max_iter=10,\n",
    "                                             verbose=True)\n",
    "# self training classifier 모델 학습\n",
    "clf_ST = self_training_model.fit(X_train, y_train)"
   ]
  },
  {
   "cell_type": "code",
   "execution_count": null,
   "id": "f49add2c",
   "metadata": {},
   "outputs": [],
   "source": [
    "# self training classifier 모델 결과\n",
    "print('---------- Self Training Model - Summary ----------')\n",
    "print('Base Estimator: ', clf_ST.base_estimator_)\n",
    "print('Classes: ', clf_ST.classes_)\n",
    "print('Transduction Labels: ', clf_ST.transduction_)\n",
    "print('Number of Features: ', clf_ST.n_features_in_)\n",
    "print('Number of Iterations: ', clf_ST.n_iter_)\n",
    "print('Termination Condition: ', clf_ST.termination_condition_)"
   ]
  },
  {
   "cell_type": "code",
   "execution_count": null,
   "id": "89f2051e",
   "metadata": {},
   "outputs": [],
   "source": [
    "# self training classifier 모델 평가\n",
    "print('---------- Self Training Model - Evaluation on Test Data ----------')\n",
    "accuracy_score_ST = clf_ST.score(X_test, y_test)\n",
    "print('Accuracy Score: ', accuracy_score_ST)\n",
    "print(classification_report(y_test, clf_ST.predict(X_test)))"
   ]
  }
 ],
 "metadata": {
  "kernelspec": {
   "display_name": "Python 3 (ipykernel)",
   "language": "python",
   "name": "python3"
  },
  "language_info": {
   "codemirror_mode": {
    "name": "ipython",
    "version": 3
   },
   "file_extension": ".py",
   "mimetype": "text/x-python",
   "name": "python",
   "nbconvert_exporter": "python",
   "pygments_lexer": "ipython3",
   "version": "3.9.15"
  }
 },
 "nbformat": 4,
 "nbformat_minor": 5
}
